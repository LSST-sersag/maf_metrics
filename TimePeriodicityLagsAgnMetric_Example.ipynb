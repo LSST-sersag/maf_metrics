{
 "cells": [
  {
   "cell_type": "markdown",
   "metadata": {},
   "source": [
    "### TimePeriodicityLagsAgnMetric\n"
   ]
  },
  {
   "cell_type": "markdown",
   "metadata": {},
   "source": [
    "<p> To assess the observing strategies of the photometric surveys, we examined AGN variability-related observables (time lag, periodic oscillations, and SF) and their relation to predicting the most suitable LSST cadences. We constructed a multiple regression model to statistically identify the cadence-formal error pattern knowing AGN-variability observables from different surveys. For examination of cadence effects on SF we used only the idealized observing strategy. For time lag extraction we used the Gaussian process light curve modeling, and for the periodicity detection our 2DHybrid method. </p>"
   ]
  },
  {
   "cell_type": "markdown",
   "metadata": {},
   "source": [
    "<b> References </b>\n",
    " <ol> <li> Kovačević, A et al., 2021, submitted to MNRAS </li>\n",
    "    <li> <a href=\"https://github.com/LSST-sersag/white_paper/tree/main/data\"> Cadence Notes </a> </li>\n",
    "    </ol>"
   ]
  },
  {
   "cell_type": "markdown",
   "metadata": {},
   "source": [
    "#### Initializing"
   ]
  },
  {
   "cell_type": "code",
   "execution_count": 1,
   "metadata": {},
   "outputs": [],
   "source": [
    "from TimePeriodicityLagsAgnMetric import *\n",
    "%matplotlib inline\n"
   ]
  },
  {
   "cell_type": "code",
   "execution_count": 2,
   "metadata": {},
   "outputs": [],
   "source": [
    "# Path to the selected OpSim realisations (there could be multiple opsim realisations)\n",
    "\n",
    "path1 = '/home/idies/workspace/lsst_cadence/FBS_1.5/agnddf_v1.5_10yrs.db'\n",
    "path2 =  '/home/idies/workspace/lsst_cadence/FBS_1.5/baseline_v1.5_10yrs.db'\n",
    "path3 =  '/home/idies/workspace/lsst_cadence/FBS_1.5/rolling_mod6_sdf_0.10_v1.5_10yrs.db'\n",
    "path4 =  '/home/idies/workspace/lsst_cadence/FBS_1.5/u60_v1.5_10yrs.db'\n",
    "opsims = [path1, path2, path3, path4]\n",
    "\n",
    "# RA and Dec for the corresponding opsim realisation\n",
    "ras = [0, 0, 0, 0] \n",
    "decs = [-30, -30, -30, -30] \n",
    "\n",
    "#filter\n",
    "fil = [ 'g', 'r']\n",
    "\n",
    "# Create an instance of TimePeriodicityLagsAgnMetric\n",
    "test = TimePeriodicityLagsAgnMetric(opsims, ras, decs, fil)"
   ]
  },
  {
   "cell_type": "markdown",
   "metadata": {},
   "source": [
    "#### Running"
   ]
  },
  {
   "cell_type": "code",
   "execution_count": 3,
   "metadata": {},
   "outputs": [
    {
     "name": "stdout",
     "output_type": "stream",
     "text": [
      "Querying database SummaryAllProps with constraint filter = 'g' for columns ['fieldRA', 'fiveSigmaDepth', 'fieldDec', 'observationStartMJD', 'filter']\n",
      "Found 214351 visits\n",
      "Running:  [0]\n",
      "Completed metric generation.\n",
      "Running reduce methods.\n",
      "Running summary statistics.\n",
      "Completed.\n",
      "Num of visits 103 /home/idies/workspace/lsst_cadence/FBS_1.5/agnddf_v1.5_10yrs.db\n",
      "Querying database SummaryAllProps with constraint filter = 'g' for columns ['fieldRA', 'fiveSigmaDepth', 'fieldDec', 'observationStartMJD', 'filter']\n",
      "Found 223871 visits\n",
      "Running:  [0]\n",
      "Completed metric generation.\n",
      "Running reduce methods.\n",
      "Running summary statistics.\n",
      "Completed.\n",
      "Num of visits 91 /home/idies/workspace/lsst_cadence/FBS_1.5/baseline_v1.5_10yrs.db\n",
      "Querying database SummaryAllProps with constraint filter = 'g' for columns ['fieldRA', 'fiveSigmaDepth', 'fieldDec', 'observationStartMJD', 'filter']\n",
      "Found 227632 visits\n",
      "Running:  [0]\n",
      "Completed metric generation.\n",
      "Running reduce methods.\n",
      "Running summary statistics.\n",
      "Completed.\n",
      "Num of visits 86 /home/idies/workspace/lsst_cadence/FBS_1.5/rolling_mod6_sdf_0.10_v1.5_10yrs.db\n",
      "Querying database SummaryAllProps with constraint filter = 'g' for columns ['fieldRA', 'fiveSigmaDepth', 'fieldDec', 'observationStartMJD', 'filter']\n",
      "Found 214043 visits\n",
      "Running:  [0]\n",
      "Completed metric generation.\n",
      "Running reduce methods.\n",
      "Running summary statistics.\n",
      "Completed.\n",
      "Num of visits 81 /home/idies/workspace/lsst_cadence/FBS_1.5/u60_v1.5_10yrs.db\n"
     ]
    },
    {
     "name": "stderr",
     "output_type": "stream",
     "text": [
      "/home/idies/lsst/python/miniconda3-4.7.10/envs/lsst-scipipe-4d7b902/lib/python3.7/site-packages/matplotlib/cbook/__init__.py:2064: FutureWarning: Support for multi-dimensional indexing (e.g. `obj[:, None]`) is deprecated and will be removed in a future version.  Convert to a numpy array before indexing instead.\n",
      "  x[:, None]\n",
      "/home/idies/lsst/python/miniconda3-4.7.10/envs/lsst-scipipe-4d7b902/lib/python3.7/site-packages/matplotlib/axes/_base.py:248: FutureWarning: Support for multi-dimensional indexing (e.g. `obj[:, None]`) is deprecated and will be removed in a future version.  Convert to a numpy array before indexing instead.\n",
      "  x = x[:, np.newaxis]\n",
      "/home/idies/lsst/python/miniconda3-4.7.10/envs/lsst-scipipe-4d7b902/lib/python3.7/site-packages/matplotlib/axes/_base.py:250: FutureWarning: Support for multi-dimensional indexing (e.g. `obj[:, None]`) is deprecated and will be removed in a future version.  Convert to a numpy array before indexing instead.\n",
      "  y = y[:, np.newaxis]\n",
      "/home/idies/lsst/python/miniconda3-4.7.10/envs/lsst-scipipe-4d7b902/lib/python3.7/site-packages/matplotlib/cbook/__init__.py:2064: FutureWarning: Support for multi-dimensional indexing (e.g. `obj[:, None]`) is deprecated and will be removed in a future version.  Convert to a numpy array before indexing instead.\n",
      "  x[:, None]\n",
      "/home/idies/lsst/python/miniconda3-4.7.10/envs/lsst-scipipe-4d7b902/lib/python3.7/site-packages/matplotlib/axes/_base.py:248: FutureWarning: Support for multi-dimensional indexing (e.g. `obj[:, None]`) is deprecated and will be removed in a future version.  Convert to a numpy array before indexing instead.\n",
      "  x = x[:, np.newaxis]\n",
      "/home/idies/lsst/python/miniconda3-4.7.10/envs/lsst-scipipe-4d7b902/lib/python3.7/site-packages/matplotlib/axes/_base.py:250: FutureWarning: Support for multi-dimensional indexing (e.g. `obj[:, None]`) is deprecated and will be removed in a future version.  Convert to a numpy array before indexing instead.\n",
      "  y = y[:, np.newaxis]\n"
     ]
    },
    {
     "name": "stdout",
     "output_type": "stream",
     "text": [
      "Querying database SummaryAllProps with constraint filter = 'r' for columns ['fieldRA', 'fiveSigmaDepth', 'fieldDec', 'observationStartMJD', 'filter']\n",
      "Found 469008 visits\n",
      "Running:  [0]\n",
      "Completed metric generation.\n",
      "Running reduce methods.\n",
      "Running summary statistics.\n",
      "Completed.\n",
      "Num of visits 216 /home/idies/workspace/lsst_cadence/FBS_1.5/agnddf_v1.5_10yrs.db\n",
      "Querying database SummaryAllProps with constraint filter = 'r' for columns ['fieldRA', 'fiveSigmaDepth', 'fieldDec', 'observationStartMJD', 'filter']\n",
      "Found 491676 visits\n",
      "Running:  [0]\n",
      "Completed metric generation.\n",
      "Running reduce methods.\n",
      "Running summary statistics.\n",
      "Completed.\n",
      "Num of visits 215 /home/idies/workspace/lsst_cadence/FBS_1.5/baseline_v1.5_10yrs.db\n",
      "Querying database SummaryAllProps with constraint filter = 'r' for columns ['fieldRA', 'fiveSigmaDepth', 'fieldDec', 'observationStartMJD', 'filter']\n",
      "Found 487742 visits\n",
      "Running:  [0]\n",
      "Completed metric generation.\n",
      "Running reduce methods.\n",
      "Running summary statistics.\n",
      "Completed.\n",
      "Num of visits 199 /home/idies/workspace/lsst_cadence/FBS_1.5/rolling_mod6_sdf_0.10_v1.5_10yrs.db\n",
      "Querying database SummaryAllProps with constraint filter = 'r' for columns ['fieldRA', 'fiveSigmaDepth', 'fieldDec', 'observationStartMJD', 'filter']\n",
      "Found 475903 visits\n",
      "Running:  [0]\n",
      "Completed metric generation.\n",
      "Running reduce methods.\n",
      "Running summary statistics.\n",
      "Completed.\n",
      "Num of visits 211 /home/idies/workspace/lsst_cadence/FBS_1.5/u60_v1.5_10yrs.db\n"
     ]
    },
    {
     "name": "stderr",
     "output_type": "stream",
     "text": [
      "/home/idies/lsst/python/miniconda3-4.7.10/envs/lsst-scipipe-4d7b902/lib/python3.7/site-packages/matplotlib/cbook/__init__.py:2064: FutureWarning: Support for multi-dimensional indexing (e.g. `obj[:, None]`) is deprecated and will be removed in a future version.  Convert to a numpy array before indexing instead.\n",
      "  x[:, None]\n",
      "/home/idies/lsst/python/miniconda3-4.7.10/envs/lsst-scipipe-4d7b902/lib/python3.7/site-packages/matplotlib/axes/_base.py:248: FutureWarning: Support for multi-dimensional indexing (e.g. `obj[:, None]`) is deprecated and will be removed in a future version.  Convert to a numpy array before indexing instead.\n",
      "  x = x[:, np.newaxis]\n",
      "/home/idies/lsst/python/miniconda3-4.7.10/envs/lsst-scipipe-4d7b902/lib/python3.7/site-packages/matplotlib/axes/_base.py:250: FutureWarning: Support for multi-dimensional indexing (e.g. `obj[:, None]`) is deprecated and will be removed in a future version.  Convert to a numpy array before indexing instead.\n",
      "  y = y[:, np.newaxis]\n",
      "/home/idies/lsst/python/miniconda3-4.7.10/envs/lsst-scipipe-4d7b902/lib/python3.7/site-packages/matplotlib/cbook/__init__.py:2064: FutureWarning: Support for multi-dimensional indexing (e.g. `obj[:, None]`) is deprecated and will be removed in a future version.  Convert to a numpy array before indexing instead.\n",
      "  x[:, None]\n",
      "/home/idies/lsst/python/miniconda3-4.7.10/envs/lsst-scipipe-4d7b902/lib/python3.7/site-packages/matplotlib/axes/_base.py:248: FutureWarning: Support for multi-dimensional indexing (e.g. `obj[:, None]`) is deprecated and will be removed in a future version.  Convert to a numpy array before indexing instead.\n",
      "  x = x[:, np.newaxis]\n",
      "/home/idies/lsst/python/miniconda3-4.7.10/envs/lsst-scipipe-4d7b902/lib/python3.7/site-packages/matplotlib/axes/_base.py:250: FutureWarning: Support for multi-dimensional indexing (e.g. `obj[:, None]`) is deprecated and will be removed in a future version.  Convert to a numpy array before indexing instead.\n",
      "  y = y[:, np.newaxis]\n"
     ]
    },
    {
     "data": {
      "image/png": "[encoded data removed]",
      "text/plain": [
       "<Figure size 432x288 with 1 Axes>"
      ]
     },
     "metadata": {
      "needs_background": "light"
     },
     "output_type": "display_data"
    }
   ],
   "source": [
    "# runAll function is used in order to obtain the results\n",
    "\n",
    "test.runAll()"
   ]
  }
 ],
 "metadata": {
  "kernelspec": {
   "display_name": "Python 3",
   "language": "python",
   "name": "python3"
  },
  "language_info": {
   "codemirror_mode": {
    "name": "ipython",
    "version": 3
   },
   "file_extension": ".py",
   "mimetype": "text/x-python",
   "name": "python",
   "nbconvert_exporter": "python",
   "pygments_lexer": "ipython3",
   "version": "3.7.9"
  }
 },
 "nbformat": 4,
 "nbformat_minor": 4
}
